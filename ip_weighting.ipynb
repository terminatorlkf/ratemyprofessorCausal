{
  "nbformat": 4,
  "nbformat_minor": 0,
  "metadata": {
    "colab": {
      "name": "Copy of Copy of Causal Project",
      "provenance": [],
      "collapsed_sections": []
    },
    "kernelspec": {
      "name": "python3",
      "display_name": "Python 3"
    },
    "language_info": {
      "name": "python"
    }
  },
  "cells": [
    {
      "cell_type": "code",
      "metadata": {
        "id": "cFRVnL8YqjMv"
      },
      "source": [
        "import pandas as pd\n",
        "import numpy as np\n",
        "from sklearn.linear_model import LogisticRegression\n",
        "from sklearn.linear_model import LinearRegression\n",
        "import random\n",
        "import math"
      ],
      "execution_count": null,
      "outputs": []
    },
    {
      "cell_type": "code",
      "metadata": {
        "id": "1pGmUKN9suZY"
      },
      "source": [
        "model_attribute_names = ['online class', 'Timestamp', 'reputation', 'Quality']\n",
        "COVID_start_timestamp = 1584247043\n",
        "def get_df_from_csv(csv_name):\n",
        "    return pd.read_csv(csv_name, quotechar='\"', skipinitialspace=True)\n",
        "def join_df_on_sid(student_rating_csv_name, university_rating_csv_name):\n",
        "    student_rating_df = get_df_from_csv(student_rating_csv_name)\n",
        "    university_rating_df = get_df_from_csv(university_rating_csv_name)\n",
        "    return student_rating_df.merge(university_rating_df, on='sid')\n",
        "def reduce_df_attributes(joined_df):\n",
        "    return joined_df[model_attribute_names]\n",
        "def convert_is_online(df):\n",
        "    df['online class'] = np.where(df['online class'] == 'False', 0, 1)\n",
        "    return df\n",
        "def convert_timestamp_to_during_COVID(df):\n",
        "    df['Timestamp'] = np.where(df['Timestamp'] < COVID_start_timestamp, 0, 1)\n",
        "    df = df.rename(columns={'Timestamp': 'during COVID'})\n",
        "    return df"
      ],
      "execution_count": null,
      "outputs": []
    },
    {
      "cell_type": "code",
      "metadata": {
        "id": "Baed0M9HAH8A"
      },
      "source": [
        "df = join_df_on_sid('cleaned_ratings.csv', 'school_ratings.csv')\n",
        "df = reduce_df_attributes(df)\n",
        "df = convert_timestamp_to_during_COVID(df)\n",
        "df = convert_is_online(df)\n",
        "\n",
        "X, y, z = [], [], []\n",
        "for idx, row in df.iterrows():\n",
        "  X.append([row['during COVID'], row['reputation']])\n",
        "  y.append(row['online class'])\n",
        "  z.append(row['Quality'])\n",
        "\n",
        "grouped = list(zip(X, y, z))\n",
        "random.shuffle(grouped)\n",
        "X = np.array([group[0] for group in grouped])\n",
        "y = np.array([group[1] for group in grouped])\n",
        "z = np.array([group[2] for group in grouped])"
      ],
      "execution_count": null,
      "outputs": []
    },
    {
      "cell_type": "code",
      "metadata": {
        "id": "O-ahlaf0Qa5m"
      },
      "source": [
        "train_X = X[:math.floor(len(y) * .9)]\n",
        "train_y = y[:math.floor(len(y) * .9)]\n",
        "test_X = X[math.floor(len(y) * .9):]\n",
        "test_y = y[math.floor(len(y) * .9):]"
      ],
      "execution_count": null,
      "outputs": []
    },
    {
      "cell_type": "code",
      "metadata": {
        "id": "ZXzA4Q8BIW0g"
      },
      "source": [
        "clf = LinearRegression().fit(X, y)"
      ],
      "execution_count": null,
      "outputs": []
    },
    {
      "cell_type": "code",
      "metadata": {
        "id": "IVu9tNyFRJ6x"
      },
      "source": [
        "clf = LogisticRegression(random_state=0).fit(train_X, train_y)"
      ],
      "execution_count": null,
      "outputs": []
    },
    {
      "cell_type": "markdown",
      "metadata": {
        "id": "wAtvehqUxaTJ"
      },
      "source": [
        "$$p(O | \\text{C}, \\text{R}) = \\theta_0 + \\theta_1O + \\theta_2R$$"
      ]
    },
    {
      "cell_type": "code",
      "metadata": {
        "colab": {
          "base_uri": "https://localhost:8080/"
        },
        "id": "kV0BhNnk18jy",
        "outputId": "4b922348-b7ea-441e-d392-4501efdf20aa"
      },
      "source": [
        "propensities = clf.predict_proba(X)[:, 0]\n",
        "propensities"
      ],
      "execution_count": null,
      "outputs": [
        {
          "output_type": "execute_result",
          "data": {
            "text/plain": [
              "array([0.97949811, 0.9629896 , 0.96643479, ..., 0.94551086, 0.9629896 ,\n",
              "       0.9629896 ])"
            ]
          },
          "metadata": {
            "tags": []
          },
          "execution_count": 7
        }
      ]
    },
    {
      "cell_type": "code",
      "metadata": {
        "id": "1xVxHges5JsG",
        "colab": {
          "base_uri": "https://localhost:8080/",
          "height": 419
        },
        "outputId": "e63df2f2-c230-4288-8c23-b5a2cebb0742"
      },
      "source": [
        "df['propensity'] = propensities\n",
        "\n",
        "df"
      ],
      "execution_count": null,
      "outputs": [
        {
          "output_type": "execute_result",
          "data": {
            "text/html": [
              "<div>\n",
              "<style scoped>\n",
              "    .dataframe tbody tr th:only-of-type {\n",
              "        vertical-align: middle;\n",
              "    }\n",
              "\n",
              "    .dataframe tbody tr th {\n",
              "        vertical-align: top;\n",
              "    }\n",
              "\n",
              "    .dataframe thead th {\n",
              "        text-align: right;\n",
              "    }\n",
              "</style>\n",
              "<table border=\"1\" class=\"dataframe\">\n",
              "  <thead>\n",
              "    <tr style=\"text-align: right;\">\n",
              "      <th></th>\n",
              "      <th>online class</th>\n",
              "      <th>during COVID</th>\n",
              "      <th>reputation</th>\n",
              "      <th>Quality</th>\n",
              "      <th>propensity</th>\n",
              "    </tr>\n",
              "  </thead>\n",
              "  <tbody>\n",
              "    <tr>\n",
              "      <th>0</th>\n",
              "      <td>0</td>\n",
              "      <td>0</td>\n",
              "      <td>4.0</td>\n",
              "      <td>5.0</td>\n",
              "      <td>0.979498</td>\n",
              "    </tr>\n",
              "    <tr>\n",
              "      <th>1</th>\n",
              "      <td>0</td>\n",
              "      <td>0</td>\n",
              "      <td>4.0</td>\n",
              "      <td>4.0</td>\n",
              "      <td>0.962990</td>\n",
              "    </tr>\n",
              "    <tr>\n",
              "      <th>2</th>\n",
              "      <td>0</td>\n",
              "      <td>0</td>\n",
              "      <td>4.0</td>\n",
              "      <td>3.5</td>\n",
              "      <td>0.966435</td>\n",
              "    </tr>\n",
              "    <tr>\n",
              "      <th>3</th>\n",
              "      <td>0</td>\n",
              "      <td>0</td>\n",
              "      <td>4.0</td>\n",
              "      <td>3.5</td>\n",
              "      <td>0.962990</td>\n",
              "    </tr>\n",
              "    <tr>\n",
              "      <th>4</th>\n",
              "      <td>0</td>\n",
              "      <td>0</td>\n",
              "      <td>4.0</td>\n",
              "      <td>4.0</td>\n",
              "      <td>0.966435</td>\n",
              "    </tr>\n",
              "    <tr>\n",
              "      <th>...</th>\n",
              "      <td>...</td>\n",
              "      <td>...</td>\n",
              "      <td>...</td>\n",
              "      <td>...</td>\n",
              "      <td>...</td>\n",
              "    </tr>\n",
              "    <tr>\n",
              "      <th>510359</th>\n",
              "      <td>0</td>\n",
              "      <td>0</td>\n",
              "      <td>3.6</td>\n",
              "      <td>5.0</td>\n",
              "      <td>0.984788</td>\n",
              "    </tr>\n",
              "    <tr>\n",
              "      <th>510360</th>\n",
              "      <td>0</td>\n",
              "      <td>0</td>\n",
              "      <td>3.6</td>\n",
              "      <td>5.0</td>\n",
              "      <td>0.988729</td>\n",
              "    </tr>\n",
              "    <tr>\n",
              "      <th>510361</th>\n",
              "      <td>0</td>\n",
              "      <td>0</td>\n",
              "      <td>3.6</td>\n",
              "      <td>5.0</td>\n",
              "      <td>0.945511</td>\n",
              "    </tr>\n",
              "    <tr>\n",
              "      <th>510362</th>\n",
              "      <td>0</td>\n",
              "      <td>0</td>\n",
              "      <td>3.6</td>\n",
              "      <td>1.0</td>\n",
              "      <td>0.962990</td>\n",
              "    </tr>\n",
              "    <tr>\n",
              "      <th>510363</th>\n",
              "      <td>0</td>\n",
              "      <td>0</td>\n",
              "      <td>3.6</td>\n",
              "      <td>5.0</td>\n",
              "      <td>0.962990</td>\n",
              "    </tr>\n",
              "  </tbody>\n",
              "</table>\n",
              "<p>510364 rows × 5 columns</p>\n",
              "</div>"
            ],
            "text/plain": [
              "        online class  during COVID  reputation  Quality  propensity\n",
              "0                  0             0         4.0      5.0    0.979498\n",
              "1                  0             0         4.0      4.0    0.962990\n",
              "2                  0             0         4.0      3.5    0.966435\n",
              "3                  0             0         4.0      3.5    0.962990\n",
              "4                  0             0         4.0      4.0    0.966435\n",
              "...              ...           ...         ...      ...         ...\n",
              "510359             0             0         3.6      5.0    0.984788\n",
              "510360             0             0         3.6      5.0    0.988729\n",
              "510361             0             0         3.6      5.0    0.945511\n",
              "510362             0             0         3.6      1.0    0.962990\n",
              "510363             0             0         3.6      5.0    0.962990\n",
              "\n",
              "[510364 rows x 5 columns]"
            ]
          },
          "metadata": {
            "tags": []
          },
          "execution_count": 8
        }
      ]
    },
    {
      "cell_type": "code",
      "metadata": {
        "id": "Ip5aXyqj4oiu"
      },
      "source": [
        "groups = {}\n",
        "mean = z.mean()\n",
        "for i, propensity in enumerate(propensities):\n",
        "  if propensity not in groups:\n",
        "    # [#in-person, #online, #in-person & quality, #online & quality, #total]\n",
        "    groups[propensity] = [0, 0, 0, 0, 0]\n",
        "  yi = math.floor(y[i])\n",
        "  groups[propensity][yi] += 1\n",
        "  if z[i] > mean:\n",
        "    groups[propensity][yi + 2] += 1\n",
        "  groups[propensity][4] += 1 # sum\n",
        "\n",
        "ps = list(groups.keys())\n",
        "for propensity in ps:\n",
        "  group = groups[propensity]\n",
        "  if group[0] == 0 or group[1] == 0:\n",
        "    del groups[propensity]"
      ],
      "execution_count": null,
      "outputs": []
    },
    {
      "cell_type": "code",
      "metadata": {
        "colab": {
          "base_uri": "https://localhost:8080/"
        },
        "id": "MmoGPmpC4vbX",
        "outputId": "8bba4f33-d06c-4137-bd5b-c62496129c2e"
      },
      "source": [
        "ip_numerator = 0\n",
        "ip_denominator = 0\n",
        "o_numerator = 0\n",
        "o_denominator = 0\n",
        "for propensity in groups:\n",
        "  num_ip, num_o, num_ipq, num_oq, num_total = groups[propensity]\n",
        "  ip_numerator += num_total / num_ip * num_ipq / num_ip\n",
        "  o_numerator += num_total / num_o * num_oq / num_o\n",
        "  ip_denominator += num_total / num_ip\n",
        "  o_denominator += num_total / num_o\n",
        "print(ip_numerator / ip_denominator, o_numerator / o_denominator)"
      ],
      "execution_count": null,
      "outputs": [
        {
          "output_type": "stream",
          "text": [
            "0.6239724019784485 0.511973478070377\n"
          ],
          "name": "stdout"
        }
      ]
    },
    {
      "cell_type": "code",
      "metadata": {
        "id": "emcd8dyG5Q8L",
        "colab": {
          "base_uri": "https://localhost:8080/",
          "height": 419
        },
        "outputId": "2195c1f9-25e6-4049-a2c2-0bd53f5959a6"
      },
      "source": [
        "dfNotOnline = df[df['online class'] == 0]\n",
        "\n",
        "dfNotOnline"
      ],
      "execution_count": null,
      "outputs": [
        {
          "output_type": "execute_result",
          "data": {
            "text/html": [
              "<div>\n",
              "<style scoped>\n",
              "    .dataframe tbody tr th:only-of-type {\n",
              "        vertical-align: middle;\n",
              "    }\n",
              "\n",
              "    .dataframe tbody tr th {\n",
              "        vertical-align: top;\n",
              "    }\n",
              "\n",
              "    .dataframe thead th {\n",
              "        text-align: right;\n",
              "    }\n",
              "</style>\n",
              "<table border=\"1\" class=\"dataframe\">\n",
              "  <thead>\n",
              "    <tr style=\"text-align: right;\">\n",
              "      <th></th>\n",
              "      <th>online class</th>\n",
              "      <th>during COVID</th>\n",
              "      <th>reputation</th>\n",
              "      <th>Quality</th>\n",
              "      <th>propensity</th>\n",
              "    </tr>\n",
              "  </thead>\n",
              "  <tbody>\n",
              "    <tr>\n",
              "      <th>0</th>\n",
              "      <td>0</td>\n",
              "      <td>0</td>\n",
              "      <td>4.0</td>\n",
              "      <td>5.0</td>\n",
              "      <td>0.979498</td>\n",
              "    </tr>\n",
              "    <tr>\n",
              "      <th>1</th>\n",
              "      <td>0</td>\n",
              "      <td>0</td>\n",
              "      <td>4.0</td>\n",
              "      <td>4.0</td>\n",
              "      <td>0.962990</td>\n",
              "    </tr>\n",
              "    <tr>\n",
              "      <th>2</th>\n",
              "      <td>0</td>\n",
              "      <td>0</td>\n",
              "      <td>4.0</td>\n",
              "      <td>3.5</td>\n",
              "      <td>0.966435</td>\n",
              "    </tr>\n",
              "    <tr>\n",
              "      <th>3</th>\n",
              "      <td>0</td>\n",
              "      <td>0</td>\n",
              "      <td>4.0</td>\n",
              "      <td>3.5</td>\n",
              "      <td>0.962990</td>\n",
              "    </tr>\n",
              "    <tr>\n",
              "      <th>4</th>\n",
              "      <td>0</td>\n",
              "      <td>0</td>\n",
              "      <td>4.0</td>\n",
              "      <td>4.0</td>\n",
              "      <td>0.966435</td>\n",
              "    </tr>\n",
              "    <tr>\n",
              "      <th>...</th>\n",
              "      <td>...</td>\n",
              "      <td>...</td>\n",
              "      <td>...</td>\n",
              "      <td>...</td>\n",
              "      <td>...</td>\n",
              "    </tr>\n",
              "    <tr>\n",
              "      <th>510359</th>\n",
              "      <td>0</td>\n",
              "      <td>0</td>\n",
              "      <td>3.6</td>\n",
              "      <td>5.0</td>\n",
              "      <td>0.984788</td>\n",
              "    </tr>\n",
              "    <tr>\n",
              "      <th>510360</th>\n",
              "      <td>0</td>\n",
              "      <td>0</td>\n",
              "      <td>3.6</td>\n",
              "      <td>5.0</td>\n",
              "      <td>0.988729</td>\n",
              "    </tr>\n",
              "    <tr>\n",
              "      <th>510361</th>\n",
              "      <td>0</td>\n",
              "      <td>0</td>\n",
              "      <td>3.6</td>\n",
              "      <td>5.0</td>\n",
              "      <td>0.945511</td>\n",
              "    </tr>\n",
              "    <tr>\n",
              "      <th>510362</th>\n",
              "      <td>0</td>\n",
              "      <td>0</td>\n",
              "      <td>3.6</td>\n",
              "      <td>1.0</td>\n",
              "      <td>0.962990</td>\n",
              "    </tr>\n",
              "    <tr>\n",
              "      <th>510363</th>\n",
              "      <td>0</td>\n",
              "      <td>0</td>\n",
              "      <td>3.6</td>\n",
              "      <td>5.0</td>\n",
              "      <td>0.962990</td>\n",
              "    </tr>\n",
              "  </tbody>\n",
              "</table>\n",
              "<p>488186 rows × 5 columns</p>\n",
              "</div>"
            ],
            "text/plain": [
              "        online class  during COVID  reputation  Quality  propensity\n",
              "0                  0             0         4.0      5.0    0.979498\n",
              "1                  0             0         4.0      4.0    0.962990\n",
              "2                  0             0         4.0      3.5    0.966435\n",
              "3                  0             0         4.0      3.5    0.962990\n",
              "4                  0             0         4.0      4.0    0.966435\n",
              "...              ...           ...         ...      ...         ...\n",
              "510359             0             0         3.6      5.0    0.984788\n",
              "510360             0             0         3.6      5.0    0.988729\n",
              "510361             0             0         3.6      5.0    0.945511\n",
              "510362             0             0         3.6      1.0    0.962990\n",
              "510363             0             0         3.6      5.0    0.962990\n",
              "\n",
              "[488186 rows x 5 columns]"
            ]
          },
          "metadata": {
            "tags": []
          },
          "execution_count": 9
        }
      ]
    },
    {
      "cell_type": "code",
      "metadata": {
        "id": "qErxSMjO5RF-",
        "colab": {
          "base_uri": "https://localhost:8080/",
          "height": 419
        },
        "outputId": "eb0c97c8-c1c2-429b-a272-7bd7d614b505"
      },
      "source": [
        "dfOnline = df[df['online class'] == 1]\n",
        "\n",
        "dfOnline"
      ],
      "execution_count": null,
      "outputs": [
        {
          "output_type": "execute_result",
          "data": {
            "text/html": [
              "<div>\n",
              "<style scoped>\n",
              "    .dataframe tbody tr th:only-of-type {\n",
              "        vertical-align: middle;\n",
              "    }\n",
              "\n",
              "    .dataframe tbody tr th {\n",
              "        vertical-align: top;\n",
              "    }\n",
              "\n",
              "    .dataframe thead th {\n",
              "        text-align: right;\n",
              "    }\n",
              "</style>\n",
              "<table border=\"1\" class=\"dataframe\">\n",
              "  <thead>\n",
              "    <tr style=\"text-align: right;\">\n",
              "      <th></th>\n",
              "      <th>online class</th>\n",
              "      <th>during COVID</th>\n",
              "      <th>reputation</th>\n",
              "      <th>Quality</th>\n",
              "      <th>propensity</th>\n",
              "    </tr>\n",
              "  </thead>\n",
              "  <tbody>\n",
              "    <tr>\n",
              "      <th>588</th>\n",
              "      <td>1</td>\n",
              "      <td>0</td>\n",
              "      <td>4.0</td>\n",
              "      <td>5.0</td>\n",
              "      <td>0.966435</td>\n",
              "    </tr>\n",
              "    <tr>\n",
              "      <th>611</th>\n",
              "      <td>1</td>\n",
              "      <td>0</td>\n",
              "      <td>4.0</td>\n",
              "      <td>3.5</td>\n",
              "      <td>0.962990</td>\n",
              "    </tr>\n",
              "    <tr>\n",
              "      <th>788</th>\n",
              "      <td>1</td>\n",
              "      <td>0</td>\n",
              "      <td>4.0</td>\n",
              "      <td>1.0</td>\n",
              "      <td>0.966435</td>\n",
              "    </tr>\n",
              "    <tr>\n",
              "      <th>928</th>\n",
              "      <td>1</td>\n",
              "      <td>0</td>\n",
              "      <td>4.0</td>\n",
              "      <td>4.5</td>\n",
              "      <td>0.979498</td>\n",
              "    </tr>\n",
              "    <tr>\n",
              "      <th>1012</th>\n",
              "      <td>1</td>\n",
              "      <td>0</td>\n",
              "      <td>4.0</td>\n",
              "      <td>1.0</td>\n",
              "      <td>0.955053</td>\n",
              "    </tr>\n",
              "    <tr>\n",
              "      <th>...</th>\n",
              "      <td>...</td>\n",
              "      <td>...</td>\n",
              "      <td>...</td>\n",
              "      <td>...</td>\n",
              "      <td>...</td>\n",
              "    </tr>\n",
              "    <tr>\n",
              "      <th>510254</th>\n",
              "      <td>1</td>\n",
              "      <td>0</td>\n",
              "      <td>3.6</td>\n",
              "      <td>3.0</td>\n",
              "      <td>0.986233</td>\n",
              "    </tr>\n",
              "    <tr>\n",
              "      <th>510255</th>\n",
              "      <td>1</td>\n",
              "      <td>0</td>\n",
              "      <td>3.6</td>\n",
              "      <td>3.5</td>\n",
              "      <td>0.655379</td>\n",
              "    </tr>\n",
              "    <tr>\n",
              "      <th>510256</th>\n",
              "      <td>1</td>\n",
              "      <td>0</td>\n",
              "      <td>3.6</td>\n",
              "      <td>1.5</td>\n",
              "      <td>0.979498</td>\n",
              "    </tr>\n",
              "    <tr>\n",
              "      <th>510258</th>\n",
              "      <td>1</td>\n",
              "      <td>0</td>\n",
              "      <td>3.6</td>\n",
              "      <td>1.0</td>\n",
              "      <td>0.986233</td>\n",
              "    </tr>\n",
              "    <tr>\n",
              "      <th>510299</th>\n",
              "      <td>1</td>\n",
              "      <td>0</td>\n",
              "      <td>3.6</td>\n",
              "      <td>2.0</td>\n",
              "      <td>0.977362</td>\n",
              "    </tr>\n",
              "  </tbody>\n",
              "</table>\n",
              "<p>22178 rows × 5 columns</p>\n",
              "</div>"
            ],
            "text/plain": [
              "        online class  during COVID  reputation  Quality  propensity\n",
              "588                1             0         4.0      5.0    0.966435\n",
              "611                1             0         4.0      3.5    0.962990\n",
              "788                1             0         4.0      1.0    0.966435\n",
              "928                1             0         4.0      4.5    0.979498\n",
              "1012               1             0         4.0      1.0    0.955053\n",
              "...              ...           ...         ...      ...         ...\n",
              "510254             1             0         3.6      3.0    0.986233\n",
              "510255             1             0         3.6      3.5    0.655379\n",
              "510256             1             0         3.6      1.5    0.979498\n",
              "510258             1             0         3.6      1.0    0.986233\n",
              "510299             1             0         3.6      2.0    0.977362\n",
              "\n",
              "[22178 rows x 5 columns]"
            ]
          },
          "metadata": {
            "tags": []
          },
          "execution_count": 10
        }
      ]
    },
    {
      "cell_type": "code",
      "metadata": {
        "id": "B8BWc5Oce4Y9",
        "colab": {
          "base_uri": "https://localhost:8080/"
        },
        "outputId": "1f6abde3-097d-41c3-bd5d-9e10ed07cb26"
      },
      "source": [
        "causalEffectWithTreatment = 0\n",
        "\n",
        "for index, row in dfOnline.iterrows():\n",
        "  causalEffectWithTreatment += row['Quality'] / row['propensity']\n",
        "\n",
        "causalEffectWithTreatment /= (len(dfOnline)) \n",
        "\n",
        "causalEffectWithTreatment\n"
      ],
      "execution_count": null,
      "outputs": [
        {
          "output_type": "execute_result",
          "data": {
            "text/plain": [
              "3.575518365187849"
            ]
          },
          "metadata": {
            "tags": []
          },
          "execution_count": 12
        }
      ]
    },
    {
      "cell_type": "code",
      "metadata": {
        "id": "VljatBk84Z0V",
        "colab": {
          "base_uri": "https://localhost:8080/"
        },
        "outputId": "4b2e5cdc-66ac-4c3d-d6a9-a2ad8e532d7d"
      },
      "source": [
        "causalEffectWithoutTreatment = 0\n",
        "\n",
        "for index, row in dfNotOnline.iterrows():\n",
        "  causalEffectWithoutTreatment += row['Quality'] / (row['propensity'])\n",
        "\n",
        "causalEffectWithoutTreatment /= (len(dfNotOnline)) \n",
        "\n",
        "causalEffectWithoutTreatment"
      ],
      "execution_count": null,
      "outputs": [
        {
          "output_type": "execute_result",
          "data": {
            "text/plain": [
              "3.9160331216785718"
            ]
          },
          "metadata": {
            "tags": []
          },
          "execution_count": 14
        }
      ]
    },
    {
      "cell_type": "code",
      "metadata": {
        "id": "m6bseB8_4_nI",
        "colab": {
          "base_uri": "https://localhost:8080/"
        },
        "outputId": "a142dbe5-d78d-4c4b-fd0e-dc4942f63a8d"
      },
      "source": [
        "causalEffectWithTreatment - causalEffectWithoutTreatment"
      ],
      "execution_count": null,
      "outputs": [
        {
          "output_type": "execute_result",
          "data": {
            "text/plain": [
              "-0.3405147564907227"
            ]
          },
          "metadata": {
            "tags": []
          },
          "execution_count": 15
        }
      ]
    },
    {
      "cell_type": "code",
      "metadata": {
        "colab": {
          "base_uri": "https://localhost:8080/"
        },
        "id": "rSlPLEiT3AOg",
        "outputId": "a827b04a-6174-45ab-e29d-fa8e63fd7bf5"
      },
      "source": [
        "causalEffectWithTreatment/causalEffectWithoutTreatment"
      ],
      "execution_count": null,
      "outputs": [
        {
          "output_type": "execute_result",
          "data": {
            "text/plain": [
              "0.9130459968263077"
            ]
          },
          "metadata": {
            "tags": []
          },
          "execution_count": 16
        }
      ]
    },
    {
      "cell_type": "markdown",
      "metadata": {
        "id": "m-UGBHmWv12K"
      },
      "source": [
        "$$E[P^{O=1}] - E[P^{O=0}] = -0.3405147564907227$$\n",
        "$$\\frac{E[P^{O=1}]}{E[P^{O=0}]} = 0.9130459968263077$$"
      ]
    },
    {
      "cell_type": "markdown",
      "metadata": {
        "id": "0Bb7wH86jlwe"
      },
      "source": [
        "$\\frac{1}{n_1} \\sum_{i:O_i = 1} \\frac{p_i}{P(O | C, R)}$\n",
        "$$\\frac{1}{n_2} \\sum_{i:O_i = 0} \\frac{p_i}{P(O | C, R)}$$$"
      ]
    }
  ]
}